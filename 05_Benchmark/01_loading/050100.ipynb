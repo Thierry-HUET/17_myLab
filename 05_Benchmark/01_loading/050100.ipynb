{
 "cells": [
  {
   "cell_type": "markdown",
   "metadata": {},
   "source": [
    "---\n",
    "title: Chargement de fichier\n",
    "short_title: Loading\n",
    "authors: \n",
    "    - name: Thierry HUET\n",
    "      affiliations: \n",
    "        - APERTO-NOTA\n",
    "      email: thierry.huet@aperto-nota.fr\n",
    "subject: Mode opératoire\n",
    "exports: \n",
    "  - format: pdf\n",
    "    language: fr\n",
    "    template: lapreprint\n",
    "    date: 2025-01-08\n",
    "---"
   ]
  },
  {
   "cell_type": "markdown",
   "metadata": {},
   "source": [
    "# Contexte\n",
    "Le chargement de données en base de données est essentiel pour l’analyse et la manipulation des données. Ce processus consiste à importer des données dans une base de données existante ou à créer une nouvelle base à partir de données externes.\n",
    "\n",
    "Face à des volumes de données souvent très importants, il est crucial d'adopter une approche efficace. Cela inclut le choix du format de fichier approprié, la définition de la structure de la base de données et la gestion des erreurs lors du chargement.\n",
    "\n",
    "Le format de fichier joue un rôle déterminant dans la manière dont les données sont stockées. Les formats couramment utilisés pour le chargement de données incluent CSV, Excel, JSON et SQL. Récemment, un nouveau format a fait son apparition : le format Parquet.\n",
    "\n",
    "Notre objectif est de comparer ces formats de fichier afin de déterminer lequel est le plus adapté pour le chargement de données en base de données en tenant compte principalement de la taille des fichiers d'entrée."
   ]
  },
  {
   "cell_type": "markdown",
   "metadata": {},
   "source": [
    "# Principe\n",
    "## Prérequis\n",
    "- Base de données PostgreSQL 16\n",
    "- Python 3.9 ou ultérieur\n",
    "- psycopg2 pour la connexion à la base de données PostgreSQL\n",
    "- pandas pour le traitement des données\n",
    "- openpyxl pour la lecture et l'écriture de fichiers Excel\n",
    "\n",
    "Les traitements seront effectués sur un MacBook Pro M1 avec 16 Go de RAM, où la base de données et Python sont installés localement."
   ]
  },
  {
   "cell_type": "markdown",
   "metadata": {},
   "source": [
    "\n",
    "# Mode opératoire\n",
    "## Préparation des données\n",
    "Rien de tel que la base de données des entreprises françaises pour réaliser ce type de tests. Elle contient environ 90M de lignes et mis à jour régulièrement par l'INSEE.\n",
    "### Chargement des données\n",
    "\n",
    "::: shell\n",
    "curl -XGET -L https://www.data.gouv.fr/fr/datasets/r/88fbb6b4-0320-443e-b739-b4376a012c32 -o StockEtablissementHistorique_utf8.zip\n",
    "  % Total    % Received % Xferd  Average Speed   Time    Time     Time  Current\n",
    "                                 Dload  Upload   Total   Spent    Left  Speed\n",
    "100   341  100   341    0     0    618      0 --:--:-- --:--:-- --:--:--   618\n",
    "100 1079M  100 1079M    0     0  2110k      0  0:08:43  0:08:43 --:--:-- 1959k\n",
    "\n",
    "time unzip StockEtablissementHistorique_utf8.zip\n",
    "Archive:  StockEtablissementHistorique_utf8.zip\n",
    "  inflating: StockEtablissementHistorique_utf8.csv  \n",
    "unzip StockEtablissementHistorique_utf8.zip  35,24s user 1,98s system 89% cpu 41,443 total\n",
    "\n",
    "wc -l StockEtablissementHistorique_utf8.csv \n",
    " 88542962 StockEtablissementHistorique_utf8.csv\n",
    ":::\n",
    "### Préparation des données\n",
    "Découpage du fichier sous forme de lots de 50_000 lignes. Export au format CSV, SQL, Excel, JSON et parquet. Noter le temps de préparation\n",
    ":::shell\n",
    "python3 prepa_files.py\n",
    "2025-01-08 11:38:26,179 - INFO - Chargement du fichier...\n",
    "2025-01-08 11:42:37,331 - INFO - Fichier chargé...\n",
    "...\n",
    "\n",
    ":::"
   ]
  },
  {
   "cell_type": "markdown",
   "metadata": {},
   "source": [
    "### Importation des données"
   ]
  },
  {
   "cell_type": "markdown",
   "metadata": {},
   "source": []
  },
  {
   "cell_type": "markdown",
   "metadata": {},
   "source": [
    "# Résultats"
   ]
  },
  {
   "cell_type": "markdown",
   "metadata": {},
   "source": [
    "# En Conclusion"
   ]
  },
  {
   "cell_type": "markdown",
   "metadata": {},
   "source": [
    "```{include} 99_complements.md\n",
    ":start-at: project\n",
    ":end-before: references\n",
    ":lineno-match:\n",
    "```"
   ]
  }
 ],
 "metadata": {
  "kernelspec": {
   "display_name": "Python 3 (ipykernel)",
   "language": "python",
   "name": "python3"
  },
  "language_info": {
   "codemirror_mode": {
    "name": "ipython",
    "version": 3
   },
   "file_extension": ".py",
   "mimetype": "text/x-python",
   "name": "python",
   "nbconvert_exporter": "python",
   "pygments_lexer": "ipython3",
   "version": "3.12.7"
  }
 },
 "nbformat": 4,
 "nbformat_minor": 2
}
